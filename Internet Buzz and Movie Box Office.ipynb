{
 "cells": [
  {
   "cell_type": "code",
   "execution_count": 124,
   "id": "8c2f610a",
   "metadata": {},
   "outputs": [],
   "source": [
    "# Importing the required libraries\n",
    "\n",
    "import os\n",
    "import numpy as np\n",
    "import pandas as pd\n",
    "import matplotlib.pyplot as plt\n",
    "import statsmodels.api as sm\n",
    "import sklearn.preprocessing as prep\n",
    "from sklearn.decomposition import PCA"
   ]
  },
  {
   "cell_type": "code",
   "execution_count": 125,
   "id": "b04c5f56",
   "metadata": {},
   "outputs": [
    {
     "data": {
      "text/html": [
       "<div>\n",
       "<style scoped>\n",
       "    .dataframe tbody tr th:only-of-type {\n",
       "        vertical-align: middle;\n",
       "    }\n",
       "\n",
       "    .dataframe tbody tr th {\n",
       "        vertical-align: top;\n",
       "    }\n",
       "\n",
       "    .dataframe thead th {\n",
       "        text-align: right;\n",
       "    }\n",
       "</style>\n",
       "<table border=\"1\" class=\"dataframe\">\n",
       "  <thead>\n",
       "    <tr style=\"text-align: right;\">\n",
       "      <th></th>\n",
       "      <th>box</th>\n",
       "      <th>G</th>\n",
       "      <th>PG</th>\n",
       "      <th>PG13</th>\n",
       "      <th>budget</th>\n",
       "      <th>starpowr</th>\n",
       "      <th>sequel</th>\n",
       "      <th>action</th>\n",
       "      <th>comedy</th>\n",
       "      <th>animated</th>\n",
       "      <th>horror</th>\n",
       "      <th>addict</th>\n",
       "      <th>cmngsoon</th>\n",
       "      <th>fandango</th>\n",
       "      <th>cntwait3</th>\n",
       "    </tr>\n",
       "  </thead>\n",
       "  <tbody>\n",
       "    <tr>\n",
       "      <th>0</th>\n",
       "      <td>19167085</td>\n",
       "      <td>0</td>\n",
       "      <td>0</td>\n",
       "      <td>0</td>\n",
       "      <td>28.0</td>\n",
       "      <td>19.83</td>\n",
       "      <td>0</td>\n",
       "      <td>0</td>\n",
       "      <td>1</td>\n",
       "      <td>0</td>\n",
       "      <td>0</td>\n",
       "      <td>7860.500000</td>\n",
       "      <td>10</td>\n",
       "      <td>144</td>\n",
       "      <td>0.49</td>\n",
       "    </tr>\n",
       "    <tr>\n",
       "      <th>1</th>\n",
       "      <td>63106589</td>\n",
       "      <td>0</td>\n",
       "      <td>1</td>\n",
       "      <td>0</td>\n",
       "      <td>150.0</td>\n",
       "      <td>32.69</td>\n",
       "      <td>1</td>\n",
       "      <td>0</td>\n",
       "      <td>0</td>\n",
       "      <td>1</td>\n",
       "      <td>0</td>\n",
       "      <td>5737.000000</td>\n",
       "      <td>59</td>\n",
       "      <td>468</td>\n",
       "      <td>0.79</td>\n",
       "    </tr>\n",
       "    <tr>\n",
       "      <th>2</th>\n",
       "      <td>5401605</td>\n",
       "      <td>0</td>\n",
       "      <td>0</td>\n",
       "      <td>0</td>\n",
       "      <td>37.4</td>\n",
       "      <td>15.69</td>\n",
       "      <td>0</td>\n",
       "      <td>0</td>\n",
       "      <td>1</td>\n",
       "      <td>0</td>\n",
       "      <td>0</td>\n",
       "      <td>850.000000</td>\n",
       "      <td>24</td>\n",
       "      <td>198</td>\n",
       "      <td>0.36</td>\n",
       "    </tr>\n",
       "    <tr>\n",
       "      <th>3</th>\n",
       "      <td>67528882</td>\n",
       "      <td>0</td>\n",
       "      <td>0</td>\n",
       "      <td>1</td>\n",
       "      <td>200.0</td>\n",
       "      <td>23.62</td>\n",
       "      <td>1</td>\n",
       "      <td>1</td>\n",
       "      <td>0</td>\n",
       "      <td>0</td>\n",
       "      <td>0</td>\n",
       "      <td>15326.000000</td>\n",
       "      <td>93</td>\n",
       "      <td>1778</td>\n",
       "      <td>0.76</td>\n",
       "    </tr>\n",
       "    <tr>\n",
       "      <th>4</th>\n",
       "      <td>26223128</td>\n",
       "      <td>0</td>\n",
       "      <td>1</td>\n",
       "      <td>0</td>\n",
       "      <td>150.0</td>\n",
       "      <td>19.02</td>\n",
       "      <td>0</td>\n",
       "      <td>0</td>\n",
       "      <td>0</td>\n",
       "      <td>1</td>\n",
       "      <td>0</td>\n",
       "      <td>4574.250000</td>\n",
       "      <td>30</td>\n",
       "      <td>1109</td>\n",
       "      <td>0.53</td>\n",
       "    </tr>\n",
       "    <tr>\n",
       "      <th>...</th>\n",
       "      <td>...</td>\n",
       "      <td>...</td>\n",
       "      <td>...</td>\n",
       "      <td>...</td>\n",
       "      <td>...</td>\n",
       "      <td>...</td>\n",
       "      <td>...</td>\n",
       "      <td>...</td>\n",
       "      <td>...</td>\n",
       "      <td>...</td>\n",
       "      <td>...</td>\n",
       "      <td>...</td>\n",
       "      <td>...</td>\n",
       "      <td>...</td>\n",
       "      <td>...</td>\n",
       "    </tr>\n",
       "    <tr>\n",
       "      <th>57</th>\n",
       "      <td>59321095</td>\n",
       "      <td>0</td>\n",
       "      <td>1</td>\n",
       "      <td>0</td>\n",
       "      <td>175.0</td>\n",
       "      <td>34.86</td>\n",
       "      <td>0</td>\n",
       "      <td>0</td>\n",
       "      <td>0</td>\n",
       "      <td>1</td>\n",
       "      <td>0</td>\n",
       "      <td>9085.500000</td>\n",
       "      <td>68</td>\n",
       "      <td>647</td>\n",
       "      <td>0.70</td>\n",
       "    </tr>\n",
       "    <tr>\n",
       "      <th>58</th>\n",
       "      <td>5329240</td>\n",
       "      <td>0</td>\n",
       "      <td>0</td>\n",
       "      <td>1</td>\n",
       "      <td>22.0</td>\n",
       "      <td>4.25</td>\n",
       "      <td>0</td>\n",
       "      <td>1</td>\n",
       "      <td>0</td>\n",
       "      <td>0</td>\n",
       "      <td>0</td>\n",
       "      <td>3186.000000</td>\n",
       "      <td>94</td>\n",
       "      <td>39</td>\n",
       "      <td>0.62</td>\n",
       "    </tr>\n",
       "    <tr>\n",
       "      <th>59</th>\n",
       "      <td>23004765</td>\n",
       "      <td>0</td>\n",
       "      <td>0</td>\n",
       "      <td>1</td>\n",
       "      <td>16.7</td>\n",
       "      <td>5.96</td>\n",
       "      <td>0</td>\n",
       "      <td>0</td>\n",
       "      <td>0</td>\n",
       "      <td>0</td>\n",
       "      <td>1</td>\n",
       "      <td>17584.000000</td>\n",
       "      <td>58</td>\n",
       "      <td>122</td>\n",
       "      <td>0.53</td>\n",
       "    </tr>\n",
       "    <tr>\n",
       "      <th>60</th>\n",
       "      <td>70950500</td>\n",
       "      <td>0</td>\n",
       "      <td>0</td>\n",
       "      <td>1</td>\n",
       "      <td>85.0</td>\n",
       "      <td>16.62</td>\n",
       "      <td>1</td>\n",
       "      <td>1</td>\n",
       "      <td>0</td>\n",
       "      <td>0</td>\n",
       "      <td>0</td>\n",
       "      <td>10609.666670</td>\n",
       "      <td>594</td>\n",
       "      <td>849</td>\n",
       "      <td>0.71</td>\n",
       "    </tr>\n",
       "    <tr>\n",
       "      <th>61</th>\n",
       "      <td>5722039</td>\n",
       "      <td>0</td>\n",
       "      <td>0</td>\n",
       "      <td>0</td>\n",
       "      <td>10.0</td>\n",
       "      <td>16.09</td>\n",
       "      <td>0</td>\n",
       "      <td>0</td>\n",
       "      <td>1</td>\n",
       "      <td>0</td>\n",
       "      <td>0</td>\n",
       "      <td>7760.666667</td>\n",
       "      <td>22</td>\n",
       "      <td>288</td>\n",
       "      <td>0.47</td>\n",
       "    </tr>\n",
       "  </tbody>\n",
       "</table>\n",
       "<p>62 rows × 15 columns</p>\n",
       "</div>"
      ],
      "text/plain": [
       "         box  G  PG  PG13  budget  starpowr  sequel  action  comedy  animated  \\\n",
       "0   19167085  0   0     0    28.0     19.83       0       0       1         0   \n",
       "1   63106589  0   1     0   150.0     32.69       1       0       0         1   \n",
       "2    5401605  0   0     0    37.4     15.69       0       0       1         0   \n",
       "3   67528882  0   0     1   200.0     23.62       1       1       0         0   \n",
       "4   26223128  0   1     0   150.0     19.02       0       0       0         1   \n",
       "..       ... ..  ..   ...     ...       ...     ...     ...     ...       ...   \n",
       "57  59321095  0   1     0   175.0     34.86       0       0       0         1   \n",
       "58   5329240  0   0     1    22.0      4.25       0       1       0         0   \n",
       "59  23004765  0   0     1    16.7      5.96       0       0       0         0   \n",
       "60  70950500  0   0     1    85.0     16.62       1       1       0         0   \n",
       "61   5722039  0   0     0    10.0     16.09       0       0       1         0   \n",
       "\n",
       "    horror        addict  cmngsoon  fandango  cntwait3  \n",
       "0        0   7860.500000        10       144      0.49  \n",
       "1        0   5737.000000        59       468      0.79  \n",
       "2        0    850.000000        24       198      0.36  \n",
       "3        0  15326.000000        93      1778      0.76  \n",
       "4        0   4574.250000        30      1109      0.53  \n",
       "..     ...           ...       ...       ...       ...  \n",
       "57       0   9085.500000        68       647      0.70  \n",
       "58       0   3186.000000        94        39      0.62  \n",
       "59       1  17584.000000        58       122      0.53  \n",
       "60       0  10609.666670       594       849      0.71  \n",
       "61       0   7760.666667        22       288      0.47  \n",
       "\n",
       "[62 rows x 15 columns]"
      ]
     },
     "execution_count": 125,
     "metadata": {},
     "output_type": "execute_result"
    }
   ],
   "source": [
    "# Changing working directory and reading file to bf\n",
    "\n",
    "os.chdir(r'C:\\buan6383')\n",
    "bf = pd.read_csv(r'data\\boxOffice.csv')\n",
    "bf"
   ]
  },
  {
   "cell_type": "markdown",
   "id": "1141ffe9",
   "metadata": {},
   "source": [
    "## Question 1"
   ]
  },
  {
   "cell_type": "code",
   "execution_count": 126,
   "id": "8779f177",
   "metadata": {},
   "outputs": [
    {
     "data": {
      "text/plain": [
       "array([[<Axes: title={'center': 'box'}>,\n",
       "        <Axes: title={'center': 'budget'}>],\n",
       "       [<Axes: title={'center': 'starpowr'}>, <Axes: >]], dtype=object)"
      ]
     },
     "execution_count": 126,
     "metadata": {},
     "output_type": "execute_result"
    },
    {
     "data": {
      "image/png": "[encoded data removed]",
      "text/plain": [
       "<Figure size 1200x1200 with 4 Axes>"
      ]
     },
     "metadata": {},
     "output_type": "display_data"
    }
   ],
   "source": [
    "# Plotting histograms of variables to check their distribution\n",
    "\n",
    "bf.hist(column = ['box', 'budget', 'starpowr'], bins=10, figsize=(12,12))"
   ]
  },
  {
   "cell_type": "code",
   "execution_count": 127,
   "id": "8a2f3287",
   "metadata": {},
   "outputs": [],
   "source": [
    "# Log transforming the variables which have right skew\n",
    "\n",
    "bf['log10_box'] = np.log10(bf['box'])\n",
    "bf['log10_budget'] = np.log10(bf['budget'])"
   ]
  },
  {
   "cell_type": "markdown",
   "id": "e99987c2",
   "metadata": {},
   "source": [
    "# PLOTTING HISTOGRAM OF THE TRANSFORMED VARIABLES"
   ]
  },
  {
   "cell_type": "code",
   "execution_count": 128,
   "id": "76c390df",
   "metadata": {},
   "outputs": [
    {
     "data": {
      "text/plain": [
       "array([[<Axes: title={'center': 'log10_box'}>,\n",
       "        <Axes: title={'center': 'log10_budget'}>],\n",
       "       [<Axes: title={'center': 'starpowr'}>, <Axes: >]], dtype=object)"
      ]
     },
     "execution_count": 128,
     "metadata": {},
     "output_type": "execute_result"
    },
    {
     "data": {
      "image/png": "[encoded data removed]",
      "text/plain": [
       "<Figure size 1200x1200 with 4 Axes>"
      ]
     },
     "metadata": {},
     "output_type": "display_data"
    }
   ],
   "source": [
    "# Transformed variables box and budget\n",
    "\n",
    "bf.hist(column=['log10_box', 'log10_budget', 'starpowr'], bins=10, figsize=(12,12))"
   ]
  },
  {
   "cell_type": "markdown",
   "id": "19f7a6e2",
   "metadata": {},
   "source": [
    "## Question 2"
   ]
  },
  {
   "cell_type": "code",
   "execution_count": 129,
   "id": "1124883a",
   "metadata": {},
   "outputs": [
    {
     "name": "stdout",
     "output_type": "stream",
     "text": [
      "   G  PG  PG13  starpowr  sequel  action  comedy  animated  horror  \\\n",
      "0  0   0     0     19.83       0       0       1         0       0   \n",
      "1  0   1     0     32.69       1       0       0         1       0   \n",
      "2  0   0     0     15.69       0       0       1         0       0   \n",
      "3  0   0     1     23.62       1       1       0         0       0   \n",
      "4  0   1     0     19.02       0       0       0         1       0   \n",
      "\n",
      "   log10_budget  const  \n",
      "0      1.447158    1.0  \n",
      "1      2.176091    1.0  \n",
      "2      1.572872    1.0  \n",
      "3      2.301030    1.0  \n",
      "4      2.176091    1.0  \n"
     ]
    }
   ],
   "source": [
    "# Specifying the dependent variable\n",
    "y = bf['log10_box']\n",
    "\n",
    "# copying the dataframe\n",
    "x = bf.copy()\n",
    "\n",
    "# Dropping the unnecessary variables\n",
    "x = x.drop(['box', 'addict', 'cmngsoon', 'fandango', 'cntwait3', 'budget', 'log10_box'], axis =1)\n",
    "\n",
    "x1 = x.copy()\n",
    "\n",
    "# Adding const to store the intercept coefficient\n",
    "x1['const'] = 1.0\n",
    "\n",
    "print(x1.head())"
   ]
  },
  {
   "cell_type": "code",
   "execution_count": 130,
   "id": "56466e26",
   "metadata": {},
   "outputs": [
    {
     "name": "stdout",
     "output_type": "stream",
     "text": [
      "                            OLS Regression Results                            \n",
      "==============================================================================\n",
      "Dep. Variable:              log10_box   R-squared:                       0.342\n",
      "Model:                            OLS   Adj. R-squared:                  0.214\n",
      "Method:                 Least Squares   F-statistic:                     2.656\n",
      "Date:                Sun, 11 Feb 2024   Prob (F-statistic):             0.0109\n",
      "Time:                        19:21:20   Log-Likelihood:                -19.122\n",
      "No. Observations:                  62   AIC:                             60.24\n",
      "Df Residuals:                      51   BIC:                             83.64\n",
      "Df Model:                          10                                         \n",
      "Covariance Type:            nonrobust                                         \n",
      "================================================================================\n",
      "                   coef    std err          t      P>|t|      [0.025      0.975]\n",
      "--------------------------------------------------------------------------------\n",
      "G                0.1096      0.301      0.365      0.717      -0.494       0.713\n",
      "PG               0.1432      0.162      0.885      0.380      -0.182       0.468\n",
      "PG13             0.0312      0.118      0.264      0.793      -0.206       0.268\n",
      "starpowr         0.0028      0.007      0.403      0.689      -0.011       0.017\n",
      "sequel           0.2795      0.144      1.942      0.058      -0.009       0.569\n",
      "action          -0.1332      0.149     -0.892      0.377      -0.433       0.167\n",
      "comedy          -0.0167      0.139     -0.120      0.905      -0.296       0.263\n",
      "animated        -0.3563      0.234     -1.523      0.134      -0.826       0.113\n",
      "horror           0.4458      0.191      2.332      0.024       0.062       0.829\n",
      "log10_budget     0.7091      0.208      3.407      0.001       0.291       1.127\n",
      "const            5.8963      0.299     19.727      0.000       5.296       6.496\n",
      "==============================================================================\n",
      "Omnibus:                        7.632   Durbin-Watson:                   2.080\n",
      "Prob(Omnibus):                  0.022   Jarque-Bera (JB):                7.280\n",
      "Skew:                          -0.626   Prob(JB):                       0.0262\n",
      "Kurtosis:                       4.119   Cond. No.                         160.\n",
      "==============================================================================\n",
      "\n",
      "Notes:\n",
      "[1] Standard Errors assume that the covariance matrix of the errors is correctly specified.\n"
     ]
    }
   ],
   "source": [
    "# Creating the regression model\n",
    "linreg1 = sm.OLS(y,x1).fit()\n",
    "\n",
    "print(linreg1.summary())"
   ]
  },
  {
   "cell_type": "markdown",
   "id": "2c350576",
   "metadata": {},
   "source": [
    "# Question 3"
   ]
  },
  {
   "cell_type": "code",
   "execution_count": 131,
   "id": "270289a3",
   "metadata": {},
   "outputs": [
    {
     "name": "stdout",
     "output_type": "stream",
     "text": [
      "   sequel  horror  log10_budget  const\n",
      "0       0       0      1.447158    1.0\n",
      "1       1       0      2.176091    1.0\n",
      "2       0       0      1.572872    1.0\n",
      "3       1       0      2.301030    1.0\n",
      "4       0       0      2.176091    1.0\n"
     ]
    }
   ],
   "source": [
    "# Regression with significant variables from Question 2\n",
    "\n",
    "# Specifying the dependent variable\n",
    "y = bf['log10_box']\n",
    "\n",
    "# copying the dataframe\n",
    "x2 = bf.copy()\n",
    "\n",
    "# Dropping the unnecessary variables\n",
    "x2 = x2.drop(['box', 'addict', 'cmngsoon', 'fandango', 'cntwait3', 'budget', 'log10_box', 'G','PG','PG13','starpowr','action', 'comedy', 'animated'], axis =1)\n",
    "\n",
    "x3 = x2.copy()\n",
    "\n",
    "# Adding const to store the intercept coefficient\n",
    "x3['const'] = 1.0\n",
    "\n",
    "print(x3.head())"
   ]
  },
  {
   "cell_type": "code",
   "execution_count": 132,
   "id": "5cd122ae",
   "metadata": {},
   "outputs": [
    {
     "name": "stdout",
     "output_type": "stream",
     "text": [
      "                            OLS Regression Results                            \n",
      "==============================================================================\n",
      "Dep. Variable:              log10_box   R-squared:                       0.291\n",
      "Model:                            OLS   Adj. R-squared:                  0.254\n",
      "Method:                 Least Squares   F-statistic:                     7.929\n",
      "Date:                Sun, 11 Feb 2024   Prob (F-statistic):           0.000162\n",
      "Time:                        19:21:20   Log-Likelihood:                -21.465\n",
      "No. Observations:                  62   AIC:                             50.93\n",
      "Df Residuals:                      58   BIC:                             59.44\n",
      "Df Model:                           3                                         \n",
      "Covariance Type:            nonrobust                                         \n",
      "================================================================================\n",
      "                   coef    std err          t      P>|t|      [0.025      0.975]\n",
      "--------------------------------------------------------------------------------\n",
      "sequel           0.2169      0.129      1.676      0.099      -0.042       0.476\n",
      "horror           0.4303      0.167      2.574      0.013       0.096       0.765\n",
      "log10_budget     0.6568      0.159      4.124      0.000       0.338       0.976\n",
      "const            6.0244      0.265     22.700      0.000       5.493       6.556\n",
      "==============================================================================\n",
      "Omnibus:                       17.577   Durbin-Watson:                   2.065\n",
      "Prob(Omnibus):                  0.000   Jarque-Bera (JB):               28.607\n",
      "Skew:                          -0.969   Prob(JB):                     6.14e-07\n",
      "Kurtosis:                       5.704   Cond. No.                         13.7\n",
      "==============================================================================\n",
      "\n",
      "Notes:\n",
      "[1] Standard Errors assume that the covariance matrix of the errors is correctly specified.\n"
     ]
    }
   ],
   "source": [
    "# Creating the regression model\n",
    "linreg2 = sm.OLS(y, x3).fit()\n",
    "print(linreg2.summary())"
   ]
  },
  {
   "cell_type": "markdown",
   "id": "c86ceb4e",
   "metadata": {},
   "source": [
    "# Question 4"
   ]
  },
  {
   "cell_type": "code",
   "execution_count": 133,
   "id": "4a0ca2f5",
   "metadata": {},
   "outputs": [
    {
     "data": {
      "text/plain": [
       "array([[<Axes: title={'center': 'addict'}>,\n",
       "        <Axes: title={'center': 'cmngsoon'}>],\n",
       "       [<Axes: title={'center': 'fandango'}>,\n",
       "        <Axes: title={'center': 'cntwait3'}>]], dtype=object)"
      ]
     },
     "execution_count": 133,
     "metadata": {},
     "output_type": "execute_result"
    },
    {
     "data": {
      "image/png": "[encoded data removed]",
      "text/plain": [
       "<Figure size 1200x1200 with 4 Axes>"
      ]
     },
     "metadata": {},
     "output_type": "display_data"
    }
   ],
   "source": [
    "# Histogram of buzz variables\n",
    "bf.hist(column=['addict', 'cmngsoon', 'fandango','cntwait3' ], bins=10, figsize=(12,12))"
   ]
  },
  {
   "cell_type": "code",
   "execution_count": 134,
   "id": "1b955f70",
   "metadata": {},
   "outputs": [],
   "source": [
    "# Log transforming the variables with right skew\n",
    "bf['log10_addict'] = np.log10(bf['addict'])\n",
    "bf['log10_cmngsoon'] = np.log10(bf['cmngsoon'])\n",
    "bf['log10_fandango'] = np.log10(bf['fandango'])"
   ]
  },
  {
   "cell_type": "markdown",
   "id": "cd1639f5",
   "metadata": {},
   "source": [
    "# PLOTTING HISTOGRAM OF THE TRANSFORMED VARIABLES"
   ]
  },
  {
   "cell_type": "code",
   "execution_count": 135,
   "id": "adcaffca",
   "metadata": {},
   "outputs": [
    {
     "data": {
      "text/plain": [
       "array([[<Axes: title={'center': 'log10_addict'}>,\n",
       "        <Axes: title={'center': 'log10_cmngsoon'}>],\n",
       "       [<Axes: title={'center': 'log10_fandango'}>,\n",
       "        <Axes: title={'center': 'cntwait3'}>]], dtype=object)"
      ]
     },
     "execution_count": 135,
     "metadata": {},
     "output_type": "execute_result"
    },
    {
     "data": {
      "image/png": "[encoded data removed]",
      "text/plain": [
       "<Figure size 1200x1200 with 4 Axes>"
      ]
     },
     "metadata": {},
     "output_type": "display_data"
    }
   ],
   "source": [
    "bf.hist(column=['log10_addict', 'log10_cmngsoon', 'log10_fandango','cntwait3'], bins=10, figsize=(12,12))"
   ]
  },
  {
   "cell_type": "markdown",
   "id": "61626a7d",
   "metadata": {},
   "source": [
    "# Question 5"
   ]
  },
  {
   "cell_type": "code",
   "execution_count": 136,
   "id": "50df7aed",
   "metadata": {},
   "outputs": [
    {
     "name": "stdout",
     "output_type": "stream",
     "text": [
      "   G  PG  PG13  starpowr  sequel  action  comedy  animated  horror  cntwait3  \\\n",
      "0  0   0     0     19.83       0       0       1         0       0      0.49   \n",
      "1  0   1     0     32.69       1       0       0         1       0      0.79   \n",
      "2  0   0     0     15.69       0       0       1         0       0      0.36   \n",
      "3  0   0     1     23.62       1       1       0         0       0      0.76   \n",
      "4  0   1     0     19.02       0       0       0         1       0      0.53   \n",
      "\n",
      "   log10_budget  log10_addict  log10_cmngsoon  log10_fandango  const  \n",
      "0      1.447158      3.895450        1.000000        2.158362    1.0  \n",
      "1      2.176091      3.758685        1.770852        2.670246    1.0  \n",
      "2      1.572872      2.929419        1.380211        2.296665    1.0  \n",
      "3      2.301030      4.185429        1.968483        3.249932    1.0  \n",
      "4      2.176091      3.660320        1.477121        3.044932    1.0  \n"
     ]
    }
   ],
   "source": [
    "# Regression using all independent variables including buzz variables\n",
    "# Specifying the dependent variable\n",
    "y = bf['log10_box']\n",
    "\n",
    "x4 = bf.copy()\n",
    "\n",
    "# Dropping the unnecessary variables\n",
    "x4 = x4.drop(['box','log10_box','budget', 'addict', 'cmngsoon', 'fandango'], axis =1)\n",
    "\n",
    "x5 = x4.copy()\n",
    "\n",
    "# Adding const to store the intercept coefficient\n",
    "x5['const'] = 1.0\n",
    "\n",
    "print(x5.head())"
   ]
  },
  {
   "cell_type": "code",
   "execution_count": 137,
   "id": "bfbcf57f",
   "metadata": {},
   "outputs": [
    {
     "name": "stdout",
     "output_type": "stream",
     "text": [
      "                            OLS Regression Results                            \n",
      "==============================================================================\n",
      "Dep. Variable:              log10_box   R-squared:                       0.624\n",
      "Model:                            OLS   Adj. R-squared:                  0.512\n",
      "Method:                 Least Squares   F-statistic:                     5.576\n",
      "Date:                Sun, 11 Feb 2024   Prob (F-statistic):           3.77e-06\n",
      "Time:                        19:21:23   Log-Likelihood:                -1.7817\n",
      "No. Observations:                  62   AIC:                             33.56\n",
      "Df Residuals:                      47   BIC:                             65.47\n",
      "Df Model:                          14                                         \n",
      "Covariance Type:            nonrobust                                         \n",
      "==================================================================================\n",
      "                     coef    std err          t      P>|t|      [0.025      0.975]\n",
      "----------------------------------------------------------------------------------\n",
      "G                  0.2768      0.260      1.063      0.293      -0.247       0.801\n",
      "PG                 0.2629      0.137      1.913      0.062      -0.014       0.539\n",
      "PG13               0.0943      0.096      0.986      0.329      -0.098       0.287\n",
      "starpowr           0.0005      0.006      0.089      0.930      -0.011       0.012\n",
      "sequel             0.1858      0.132      1.402      0.167      -0.081       0.452\n",
      "action            -0.3656      0.131     -2.801      0.007      -0.628      -0.103\n",
      "comedy            -0.0313      0.111     -0.282      0.779      -0.254       0.192\n",
      "animated          -0.3893      0.190     -2.050      0.046      -0.771      -0.007\n",
      "horror             0.1404      0.161      0.874      0.386      -0.183       0.464\n",
      "cntwait3           1.1267      0.403      2.798      0.007       0.317       1.937\n",
      "log10_budget       0.2344      0.187      1.256      0.215      -0.141       0.610\n",
      "log10_addict       0.2946      0.135      2.175      0.035       0.022       0.567\n",
      "log10_cmngsoon     0.0588      0.134      0.439      0.663      -0.211       0.328\n",
      "log10_fandango     0.0274      0.117      0.235      0.815      -0.207       0.262\n",
      "const              4.9926      0.431     11.581      0.000       4.125       5.860\n",
      "==============================================================================\n",
      "Omnibus:                        1.099   Durbin-Watson:                   2.087\n",
      "Prob(Omnibus):                  0.577   Jarque-Bera (JB):                0.502\n",
      "Skew:                          -0.150   Prob(JB):                        0.778\n",
      "Kurtosis:                       3.322   Cond. No.                         281.\n",
      "==============================================================================\n",
      "\n",
      "Notes:\n",
      "[1] Standard Errors assume that the covariance matrix of the errors is correctly specified.\n"
     ]
    }
   ],
   "source": [
    "# Creating the regression model\n",
    "linreg3 = sm.OLS(y, x5).fit()\n",
    "print(linreg3.summary())"
   ]
  },
  {
   "cell_type": "markdown",
   "id": "b08593b0",
   "metadata": {},
   "source": [
    "# Question 6"
   ]
  },
  {
   "cell_type": "code",
   "execution_count": 138,
   "id": "fde1c930",
   "metadata": {},
   "outputs": [],
   "source": [
    "# Regression with only the significant variables from Question 5\n",
    "\n",
    "# Specifying the dependent variable\n",
    "y = bf['log10_box']\n",
    "\n",
    "x6 = bf.copy()\n",
    "\n",
    "# Dropping the unnecessary variables\n",
    "x6 = x6.drop(['box','log10_box','G', 'PG13', 'budget', 'starpowr', 'sequel', 'comedy', 'horror', 'addict', 'cmngsoon', 'fandango', 'log10_budget', 'log10_cmngsoon', 'log10_fandango'], axis =1)\n"
   ]
  },
  {
   "cell_type": "code",
   "execution_count": 139,
   "id": "1bc4acf7",
   "metadata": {
    "scrolled": true
   },
   "outputs": [
    {
     "name": "stdout",
     "output_type": "stream",
     "text": [
      "<class 'pandas.core.frame.DataFrame'>\n",
      "RangeIndex: 62 entries, 0 to 61\n",
      "Data columns (total 5 columns):\n",
      " #   Column        Non-Null Count  Dtype  \n",
      "---  ------        --------------  -----  \n",
      " 0   PG            62 non-null     int64  \n",
      " 1   action        62 non-null     int64  \n",
      " 2   animated      62 non-null     int64  \n",
      " 3   cntwait3      62 non-null     float64\n",
      " 4   log10_addict  62 non-null     float64\n",
      "dtypes: float64(2), int64(3)\n",
      "memory usage: 2.5 KB\n"
     ]
    }
   ],
   "source": [
    "x6.info()"
   ]
  },
  {
   "cell_type": "code",
   "execution_count": 140,
   "id": "8c66500d",
   "metadata": {},
   "outputs": [
    {
     "name": "stdout",
     "output_type": "stream",
     "text": [
      "   PG  action  animated  cntwait3  log10_addict  const\n",
      "0   0       0         0      0.49      3.895450    1.0\n",
      "1   1       0         1      0.79      3.758685    1.0\n",
      "2   0       0         0      0.36      2.929419    1.0\n",
      "3   0       1         0      0.76      4.185429    1.0\n",
      "4   1       0         1      0.53      3.660320    1.0\n"
     ]
    }
   ],
   "source": [
    "x7 = x6.copy()\n",
    "\n",
    "# Adding const to store the intercept coefficient\n",
    "x7['const'] = 1.0\n",
    "\n",
    "print(x7.head())"
   ]
  },
  {
   "cell_type": "code",
   "execution_count": 141,
   "id": "acf1ccd4",
   "metadata": {},
   "outputs": [
    {
     "name": "stdout",
     "output_type": "stream",
     "text": [
      "                            OLS Regression Results                            \n",
      "==============================================================================\n",
      "Dep. Variable:              log10_box   R-squared:                       0.558\n",
      "Model:                            OLS   Adj. R-squared:                  0.519\n",
      "Method:                 Least Squares   F-statistic:                     14.15\n",
      "Date:                Sun, 11 Feb 2024   Prob (F-statistic):           6.06e-09\n",
      "Time:                        19:21:23   Log-Likelihood:                -6.8022\n",
      "No. Observations:                  62   AIC:                             25.60\n",
      "Df Residuals:                      56   BIC:                             38.37\n",
      "Df Model:                           5                                         \n",
      "Covariance Type:            nonrobust                                         \n",
      "================================================================================\n",
      "                   coef    std err          t      P>|t|      [0.025      0.975]\n",
      "--------------------------------------------------------------------------------\n",
      "PG               0.1504      0.099      1.519      0.134      -0.048       0.349\n",
      "action          -0.2836      0.098     -2.896      0.005      -0.480      -0.087\n",
      "animated        -0.2369      0.140     -1.693      0.096      -0.517       0.043\n",
      "cntwait3         1.6170      0.305      5.303      0.000       1.006       2.228\n",
      "log10_addict     0.2810      0.106      2.662      0.010       0.069       0.492\n",
      "const            5.4308      0.326     16.644      0.000       4.777       6.084\n",
      "==============================================================================\n",
      "Omnibus:                        1.995   Durbin-Watson:                   1.992\n",
      "Prob(Omnibus):                  0.369   Jarque-Bera (JB):                1.257\n",
      "Skew:                          -0.156   Prob(JB):                        0.533\n",
      "Kurtosis:                       3.624   Cond. No.                         37.8\n",
      "==============================================================================\n",
      "\n",
      "Notes:\n",
      "[1] Standard Errors assume that the covariance matrix of the errors is correctly specified.\n"
     ]
    }
   ],
   "source": [
    "# Creating the regression model\n",
    "linreg4 = sm.OLS(y, x7).fit()\n",
    "print(linreg4.summary())"
   ]
  },
  {
   "cell_type": "markdown",
   "id": "bf77d73e",
   "metadata": {},
   "source": [
    "# Question 8"
   ]
  },
  {
   "cell_type": "code",
   "execution_count": 142,
   "id": "96dea809",
   "metadata": {},
   "outputs": [
    {
     "name": "stdout",
     "output_type": "stream",
     "text": [
      "<class 'pandas.core.frame.DataFrame'>\n",
      "RangeIndex: 62 entries, 0 to 61\n",
      "Data columns (total 20 columns):\n",
      " #   Column          Non-Null Count  Dtype  \n",
      "---  ------          --------------  -----  \n",
      " 0   box             62 non-null     int64  \n",
      " 1   G               62 non-null     int64  \n",
      " 2   PG              62 non-null     int64  \n",
      " 3   PG13            62 non-null     int64  \n",
      " 4   budget          62 non-null     float64\n",
      " 5   starpowr        62 non-null     float64\n",
      " 6   sequel          62 non-null     int64  \n",
      " 7   action          62 non-null     int64  \n",
      " 8   comedy          62 non-null     int64  \n",
      " 9   animated        62 non-null     int64  \n",
      " 10  horror          62 non-null     int64  \n",
      " 11  addict          62 non-null     float64\n",
      " 12  cmngsoon        62 non-null     int64  \n",
      " 13  fandango        62 non-null     int64  \n",
      " 14  cntwait3        62 non-null     float64\n",
      " 15  log10_box       62 non-null     float64\n",
      " 16  log10_budget    62 non-null     float64\n",
      " 17  log10_addict    62 non-null     float64\n",
      " 18  log10_cmngsoon  62 non-null     float64\n",
      " 19  log10_fandango  62 non-null     float64\n",
      "dtypes: float64(9), int64(11)\n",
      "memory usage: 9.8 KB\n"
     ]
    }
   ],
   "source": [
    "bf.info()"
   ]
  },
  {
   "cell_type": "code",
   "execution_count": 143,
   "id": "3c88f329",
   "metadata": {},
   "outputs": [],
   "source": [
    "# Preparing for regression\n",
    "\n",
    "buzz = bf.copy()\n",
    "\n",
    "# Dropping the unnecessary variables\n",
    "buzz = buzz.drop(['box','G','PG','PG13','budget','starpowr','sequel','action','comedy','animated','horror','addict','cmngsoon','fandango','log10_box','log10_budget'], axis=1)"
   ]
  },
  {
   "cell_type": "code",
   "execution_count": 144,
   "id": "3b407c1e",
   "metadata": {},
   "outputs": [
    {
     "name": "stdout",
     "output_type": "stream",
     "text": [
      "<class 'pandas.core.frame.DataFrame'>\n",
      "RangeIndex: 62 entries, 0 to 61\n",
      "Data columns (total 4 columns):\n",
      " #   Column          Non-Null Count  Dtype  \n",
      "---  ------          --------------  -----  \n",
      " 0   cntwait3        62 non-null     float64\n",
      " 1   log10_addict    62 non-null     float64\n",
      " 2   log10_cmngsoon  62 non-null     float64\n",
      " 3   log10_fandango  62 non-null     float64\n",
      "dtypes: float64(4)\n",
      "memory usage: 2.1 KB\n"
     ]
    },
    {
     "data": {
      "text/html": [
       "<div>\n",
       "<style scoped>\n",
       "    .dataframe tbody tr th:only-of-type {\n",
       "        vertical-align: middle;\n",
       "    }\n",
       "\n",
       "    .dataframe tbody tr th {\n",
       "        vertical-align: top;\n",
       "    }\n",
       "\n",
       "    .dataframe thead th {\n",
       "        text-align: right;\n",
       "    }\n",
       "</style>\n",
       "<table border=\"1\" class=\"dataframe\">\n",
       "  <thead>\n",
       "    <tr style=\"text-align: right;\">\n",
       "      <th></th>\n",
       "      <th>cntwait3</th>\n",
       "      <th>log10_addict</th>\n",
       "      <th>log10_cmngsoon</th>\n",
       "      <th>log10_fandango</th>\n",
       "    </tr>\n",
       "  </thead>\n",
       "  <tbody>\n",
       "    <tr>\n",
       "      <th>0</th>\n",
       "      <td>0.49</td>\n",
       "      <td>3.895450</td>\n",
       "      <td>1.000000</td>\n",
       "      <td>2.158362</td>\n",
       "    </tr>\n",
       "    <tr>\n",
       "      <th>1</th>\n",
       "      <td>0.79</td>\n",
       "      <td>3.758685</td>\n",
       "      <td>1.770852</td>\n",
       "      <td>2.670246</td>\n",
       "    </tr>\n",
       "    <tr>\n",
       "      <th>2</th>\n",
       "      <td>0.36</td>\n",
       "      <td>2.929419</td>\n",
       "      <td>1.380211</td>\n",
       "      <td>2.296665</td>\n",
       "    </tr>\n",
       "    <tr>\n",
       "      <th>3</th>\n",
       "      <td>0.76</td>\n",
       "      <td>4.185429</td>\n",
       "      <td>1.968483</td>\n",
       "      <td>3.249932</td>\n",
       "    </tr>\n",
       "    <tr>\n",
       "      <th>4</th>\n",
       "      <td>0.53</td>\n",
       "      <td>3.660320</td>\n",
       "      <td>1.477121</td>\n",
       "      <td>3.044932</td>\n",
       "    </tr>\n",
       "  </tbody>\n",
       "</table>\n",
       "</div>"
      ],
      "text/plain": [
       "   cntwait3  log10_addict  log10_cmngsoon  log10_fandango\n",
       "0      0.49      3.895450        1.000000        2.158362\n",
       "1      0.79      3.758685        1.770852        2.670246\n",
       "2      0.36      2.929419        1.380211        2.296665\n",
       "3      0.76      4.185429        1.968483        3.249932\n",
       "4      0.53      3.660320        1.477121        3.044932"
      ]
     },
     "execution_count": 144,
     "metadata": {},
     "output_type": "execute_result"
    }
   ],
   "source": [
    "buzz.info()\n",
    "buzz.head()"
   ]
  },
  {
   "cell_type": "code",
   "execution_count": 145,
   "id": "8551163f",
   "metadata": {
    "scrolled": true
   },
   "outputs": [
    {
     "name": "stdout",
     "output_type": "stream",
     "text": [
      "    cntwait3  log10_addict  log10_cmngsoon  log10_fandango\n",
      "0   0.048793      0.810315       -1.099206       -1.151214\n",
      "1   1.979753      0.491394        0.397104        0.222393\n",
      "2  -0.787956     -1.442363       -0.361173       -0.780087\n",
      "3   1.786657      1.486514        0.780728        1.777943\n",
      "4   0.306254      0.262018       -0.173060        1.227838\n",
      "..       ...           ...             ...             ...\n",
      "57  1.400465      0.956988        0.516787        0.599841\n",
      "58  0.885543     -0.104262        0.789744       -2.673522\n",
      "59  0.306254      1.625701        0.382693       -1.344428\n",
      "60  1.464831      1.114048        2.343913        0.916495\n",
      "61 -0.079938      0.797371       -0.434525       -0.343419\n",
      "\n",
      "[62 rows x 4 columns]\n"
     ]
    }
   ],
   "source": [
    "sc = prep.StandardScaler()\n",
    "\n",
    "sx = pd.DataFrame(sc.fit_transform(buzz), columns=buzz.columns)\n",
    "\n",
    "print(sx)"
   ]
  },
  {
   "cell_type": "code",
   "execution_count": 146,
   "id": "4bdb5348",
   "metadata": {},
   "outputs": [],
   "source": [
    "# calculate the sample standard deviation of the result and scale by dividing with it \n",
    "sc.scale_ = np.std(sx, axis=0,ddof=1).to_list()\n",
    "sx = sx/sc.scale_"
   ]
  },
  {
   "cell_type": "code",
   "execution_count": 147,
   "id": "be41a021",
   "metadata": {},
   "outputs": [],
   "source": [
    "# create pca object\n",
    "pca4 = PCA()\n",
    "\n",
    "#pass the feature set \n",
    "pcs4 = pca4.fit_transform(sx)"
   ]
  },
  {
   "cell_type": "code",
   "execution_count": 148,
   "id": "e38dd3ee",
   "metadata": {},
   "outputs": [
    {
     "name": "stdout",
     "output_type": "stream",
     "text": [
      "\n",
      "Eigen Values of Correlation Matrix\n",
      "[2.41420026 0.77519959 0.45214886 0.3584513 ]\n"
     ]
    }
   ],
   "source": [
    "print('\\nEigen Values of Correlation Matrix')\n",
    "print(pca4.explained_variance_)"
   ]
  },
  {
   "cell_type": "code",
   "execution_count": 149,
   "id": "ddd5ea86",
   "metadata": {},
   "outputs": [
    {
     "data": {
      "text/plain": [
       "array([0.60355006, 0.1937999 , 0.11303721, 0.08961282])"
      ]
     },
     "execution_count": 149,
     "metadata": {},
     "output_type": "execute_result"
    }
   ],
   "source": [
    "# Explained Variance to get the proportion of variance explained by each PC\n",
    "expldvarpca4 = pca4.explained_variance_ratio_\n",
    "expldvarpca4"
   ]
  },
  {
   "cell_type": "code",
   "execution_count": 150,
   "id": "92f3a00a",
   "metadata": {},
   "outputs": [
    {
     "name": "stdout",
     "output_type": "stream",
     "text": [
      "\n",
      "Cumulative sum of the explained variance\n",
      "[0.60355006 0.79734996 0.91038718 1.        ]\n"
     ]
    }
   ],
   "source": [
    "expldvarsum4 = np.cumsum(expldvarpca4)\n",
    "print('\\nCumulative sum of the explained variance')\n",
    "print(expldvarsum4)"
   ]
  },
  {
   "cell_type": "code",
   "execution_count": 151,
   "id": "ddf88700",
   "metadata": {},
   "outputs": [
    {
     "data": {
      "image/png": "[encoded data removed]",
      "text/plain": [
       "<Figure size 500x500 with 1 Axes>"
      ]
     },
     "metadata": {},
     "output_type": "display_data"
    }
   ],
   "source": [
    "# scree plot (Eigen Values against sorted PCs)\n",
    "plt.figure(figsize=(5, 5))\n",
    "plt.xlabel(\"Principal Component\")\n",
    "plt.ylabel(\"Eigen Values\")\n",
    "plt.xticks(np.arange(1, 5)) \n",
    "plt.plot(np.arange(1,5), pca4.explained_variance_)\n",
    "plt.scatter(np.arange(1,5), pca4.explained_variance_, s = 100)\n",
    "plt.savefig(r'figures\\Scree-PCA_buzzQ8.png', transparent = \"true\")"
   ]
  },
  {
   "cell_type": "code",
   "execution_count": 152,
   "id": "2c9ee14c",
   "metadata": {},
   "outputs": [
    {
     "name": "stdout",
     "output_type": "stream",
     "text": [
      "\n",
      "Principal Components\n",
      "[[ 0.54362357  0.51126957  0.54886633  0.37659341]\n",
      " [ 0.1270135   0.33932725  0.18491386 -0.91352693]\n",
      " [ 0.5397516  -0.77445054  0.29212109 -0.15349213]\n",
      " [ 0.63008666  0.15390517 -0.76106365 -0.00927995]]\n",
      "\n",
      "Explained Variance Proportion by Component\n",
      "[0.60355006 0.1937999  0.11303721 0.08961282]\n",
      "\n",
      "Eigen Values of Correlation Matrix\n",
      "[2.41420026 0.77519959 0.45214886 0.3584513 ]\n"
     ]
    }
   ],
   "source": [
    "# print components\n",
    "print('\\nPrincipal Components')\n",
    "print(pca4.components_)\n",
    "print('\\nExplained Variance Proportion by Component')\n",
    "print(expldvarpca4)\n",
    "print('\\nEigen Values of Correlation Matrix')\n",
    "print(pca4.explained_variance_)"
   ]
  },
  {
   "cell_type": "code",
   "execution_count": 153,
   "id": "eeb98e74",
   "metadata": {},
   "outputs": [
    {
     "name": "stdout",
     "output_type": "stream",
     "text": [
      "         PC1       PC2       PC3       PC4\n",
      "0  -0.591216  1.120419 -0.739575  0.994585\n",
      "1   1.615992  0.286131  0.763648  1.010510\n",
      "2  -1.644376  0.055875  0.700252 -0.432820\n",
      "3   2.806445 -0.742427 -0.229837  0.737825\n",
      "4   0.662450 -1.017549 -0.274396  0.350745\n",
      "..       ...       ...       ...       ...\n",
      "57  1.745896  0.049794  0.073061  0.625717\n",
      "58 -0.144094  2.643883  1.190069 -0.034036\n",
      "59  0.695724  1.874180 -0.769292  0.163062\n",
      "60  2.973264  0.158961  0.468080 -0.692292\n",
      "61 -0.003581  0.489791 -0.728942  0.402951\n",
      "\n",
      "[62 rows x 4 columns]\n"
     ]
    }
   ],
   "source": [
    "# Creating a dataframe with 4 PC \n",
    "pcs4df = pd.DataFrame(pcs4, columns = ['PC1', 'PC2', 'PC3', 'PC4'])\n",
    "print(pcs4df)"
   ]
  },
  {
   "cell_type": "code",
   "execution_count": 154,
   "id": "34ca3d85",
   "metadata": {},
   "outputs": [
    {
     "name": "stdout",
     "output_type": "stream",
     "text": [
      "                            OLS Regression Results                            \n",
      "==============================================================================\n",
      "Dep. Variable:              log10_box   R-squared:                       0.473\n",
      "Model:                            OLS   Adj. R-squared:                  0.436\n",
      "Method:                 Least Squares   F-statistic:                     12.78\n",
      "Date:                Sun, 11 Feb 2024   Prob (F-statistic):           1.72e-07\n",
      "Time:                        19:21:24   Log-Likelihood:                -12.270\n",
      "No. Observations:                  62   AIC:                             34.54\n",
      "Df Residuals:                      57   BIC:                             45.18\n",
      "Df Model:                           4                                         \n",
      "Covariance Type:            nonrobust                                         \n",
      "==============================================================================\n",
      "                 coef    std err          t      P>|t|      [0.025      0.975]\n",
      "------------------------------------------------------------------------------\n",
      "PC1            0.1693      0.025      6.680      0.000       0.119       0.220\n",
      "PC2            0.0285      0.045      0.638      0.526      -0.061       0.118\n",
      "PC3            0.0300      0.059      0.512      0.611      -0.087       0.147\n",
      "PC4            0.1590      0.066      2.418      0.019       0.027       0.291\n",
      "const          7.1571      0.039    183.218      0.000       7.079       7.235\n",
      "==============================================================================\n",
      "Omnibus:                        4.480   Durbin-Watson:                   1.691\n",
      "Prob(Omnibus):                  0.106   Jarque-Bera (JB):                3.513\n",
      "Skew:                          -0.496   Prob(JB):                        0.173\n",
      "Kurtosis:                       3.613   Cond. No.                         2.60\n",
      "==============================================================================\n",
      "\n",
      "Notes:\n",
      "[1] Standard Errors assume that the covariance matrix of the errors is correctly specified.\n"
     ]
    }
   ],
   "source": [
    "# Adding const to store the intercept coefficient\n",
    "pcs4df['const'] = 1.0\n",
    "\n",
    "# Creating the regression model\n",
    "linreg5 = sm.OLS(y, pcs4df).fit()\n",
    "\n",
    "print(linreg5.summary())"
   ]
  },
  {
   "cell_type": "code",
   "execution_count": 155,
   "id": "37eb99da",
   "metadata": {},
   "outputs": [
    {
     "name": "stdout",
     "output_type": "stream",
     "text": [
      "\n",
      "Cumulative sum of the explained variance\n",
      "[0.60355006 0.79734996 0.91038718 1.        ]\n"
     ]
    }
   ],
   "source": [
    "print('\\nCumulative sum of the explained variance')\n",
    "print(expldvarsum4)"
   ]
  },
  {
   "cell_type": "markdown",
   "id": "f0179dae",
   "metadata": {},
   "source": [
    "# Question 9"
   ]
  },
  {
   "cell_type": "code",
   "execution_count": 156,
   "id": "95ce7b01",
   "metadata": {},
   "outputs": [
    {
     "name": "stdout",
     "output_type": "stream",
     "text": [
      "<class 'pandas.core.frame.DataFrame'>\n",
      "RangeIndex: 62 entries, 0 to 61\n",
      "Data columns (total 10 columns):\n",
      " #   Column        Non-Null Count  Dtype  \n",
      "---  ------        --------------  -----  \n",
      " 0   G             62 non-null     int64  \n",
      " 1   PG            62 non-null     int64  \n",
      " 2   PG13          62 non-null     int64  \n",
      " 3   log10_budget  62 non-null     float64\n",
      " 4   starpowr      62 non-null     float64\n",
      " 5   sequel        62 non-null     int64  \n",
      " 6   action        62 non-null     int64  \n",
      " 7   comedy        62 non-null     int64  \n",
      " 8   animated      62 non-null     int64  \n",
      " 9   horror        62 non-null     int64  \n",
      "dtypes: float64(2), int64(8)\n",
      "memory usage: 5.0 KB\n"
     ]
    }
   ],
   "source": [
    "# Storing necessary variables in trad to prepare for linear regression\n",
    "trad = pd.DataFrame(bf, columns=['G','PG','PG13','log10_budget','starpowr','sequel','action','comedy','animated','horror'])\n",
    "trad.info()"
   ]
  },
  {
   "cell_type": "code",
   "execution_count": 157,
   "id": "9ee9c0ac",
   "metadata": {},
   "outputs": [
    {
     "name": "stdout",
     "output_type": "stream",
     "text": [
      "<class 'pandas.core.frame.DataFrame'>\n",
      "RangeIndex: 62 entries, 0 to 61\n",
      "Data columns (total 15 columns):\n",
      " #   Column        Non-Null Count  Dtype  \n",
      "---  ------        --------------  -----  \n",
      " 0   G             62 non-null     int64  \n",
      " 1   PG            62 non-null     int64  \n",
      " 2   PG13          62 non-null     int64  \n",
      " 3   log10_budget  62 non-null     float64\n",
      " 4   starpowr      62 non-null     float64\n",
      " 5   sequel        62 non-null     int64  \n",
      " 6   action        62 non-null     int64  \n",
      " 7   comedy        62 non-null     int64  \n",
      " 8   animated      62 non-null     int64  \n",
      " 9   horror        62 non-null     int64  \n",
      " 10  PC1           62 non-null     float64\n",
      " 11  PC2           62 non-null     float64\n",
      " 12  PC3           62 non-null     float64\n",
      " 13  PC4           62 non-null     float64\n",
      " 14  const         62 non-null     float64\n",
      "dtypes: float64(7), int64(8)\n",
      "memory usage: 7.4 KB\n"
     ]
    }
   ],
   "source": [
    "# Combinging traditional variables and all 4 principal components in tradpc4\n",
    "\n",
    "tradpc4 = pd.merge(trad,pcs4df, left_index=True, right_index=True)\n",
    "tradpc4.info()"
   ]
  },
  {
   "cell_type": "code",
   "execution_count": 158,
   "id": "6c68f573",
   "metadata": {},
   "outputs": [
    {
     "name": "stdout",
     "output_type": "stream",
     "text": [
      "                            OLS Regression Results                            \n",
      "==============================================================================\n",
      "Dep. Variable:              log10_box   R-squared:                       0.624\n",
      "Model:                            OLS   Adj. R-squared:                  0.512\n",
      "Method:                 Least Squares   F-statistic:                     5.576\n",
      "Date:                Sun, 11 Feb 2024   Prob (F-statistic):           3.77e-06\n",
      "Time:                        19:21:24   Log-Likelihood:                -1.7817\n",
      "No. Observations:                  62   AIC:                             33.56\n",
      "Df Residuals:                      47   BIC:                             65.47\n",
      "Df Model:                          14                                         \n",
      "Covariance Type:            nonrobust                                         \n",
      "================================================================================\n",
      "                   coef    std err          t      P>|t|      [0.025      0.975]\n",
      "--------------------------------------------------------------------------------\n",
      "G                0.2768      0.260      1.063      0.293      -0.247       0.801\n",
      "PG               0.2629      0.137      1.913      0.062      -0.014       0.539\n",
      "PG13             0.0943      0.096      0.986      0.329      -0.098       0.287\n",
      "log10_budget     0.2344      0.187      1.256      0.215      -0.141       0.610\n",
      "starpowr         0.0005      0.006      0.089      0.930      -0.011       0.012\n",
      "sequel           0.1858      0.132      1.402      0.167      -0.081       0.452\n",
      "action          -0.3656      0.131     -2.801      0.007      -0.628      -0.103\n",
      "comedy          -0.0313      0.111     -0.282      0.779      -0.254       0.192\n",
      "animated        -0.3893      0.190     -2.050      0.046      -0.771      -0.007\n",
      "horror           0.1404      0.161      0.874      0.386      -0.183       0.464\n",
      "PC1              0.1817      0.034      5.279      0.000       0.112       0.251\n",
      "PC2              0.0619      0.046      1.341      0.186      -0.031       0.155\n",
      "PC3              0.0040      0.069      0.057      0.955      -0.135       0.143\n",
      "PC4              0.1075      0.078      1.376      0.175      -0.050       0.265\n",
      "const            6.7443      0.293     22.991      0.000       6.154       7.334\n",
      "==============================================================================\n",
      "Omnibus:                        1.099   Durbin-Watson:                   2.087\n",
      "Prob(Omnibus):                  0.577   Jarque-Bera (JB):                0.502\n",
      "Skew:                          -0.150   Prob(JB):                        0.778\n",
      "Kurtosis:                       3.322   Cond. No.                         195.\n",
      "==============================================================================\n",
      "\n",
      "Notes:\n",
      "[1] Standard Errors assume that the covariance matrix of the errors is correctly specified.\n"
     ]
    }
   ],
   "source": [
    "# Running linear regression\n",
    "\n",
    "linreg6 = sm.OLS(y, tradpc4).fit()\n",
    "print(linreg6.summary())"
   ]
  },
  {
   "cell_type": "markdown",
   "id": "8563d7c5",
   "metadata": {},
   "source": [
    "# Question 10"
   ]
  },
  {
   "cell_type": "code",
   "execution_count": 159,
   "id": "72c05de6",
   "metadata": {},
   "outputs": [
    {
     "name": "stdout",
     "output_type": "stream",
     "text": [
      "<class 'pandas.core.frame.DataFrame'>\n",
      "RangeIndex: 62 entries, 0 to 61\n",
      "Data columns (total 15 columns):\n",
      " #   Column        Non-Null Count  Dtype  \n",
      "---  ------        --------------  -----  \n",
      " 0   G             62 non-null     int64  \n",
      " 1   PG            62 non-null     int64  \n",
      " 2   PG13          62 non-null     int64  \n",
      " 3   log10_budget  62 non-null     float64\n",
      " 4   starpowr      62 non-null     float64\n",
      " 5   sequel        62 non-null     int64  \n",
      " 6   action        62 non-null     int64  \n",
      " 7   comedy        62 non-null     int64  \n",
      " 8   animated      62 non-null     int64  \n",
      " 9   horror        62 non-null     int64  \n",
      " 10  PC1           62 non-null     float64\n",
      " 11  PC2           62 non-null     float64\n",
      " 12  PC3           62 non-null     float64\n",
      " 13  PC4           62 non-null     float64\n",
      " 14  const         62 non-null     float64\n",
      "dtypes: float64(7), int64(8)\n",
      "memory usage: 7.4 KB\n"
     ]
    }
   ],
   "source": [
    "tradpc4.info()"
   ]
  },
  {
   "cell_type": "code",
   "execution_count": 160,
   "id": "8280b6dc",
   "metadata": {},
   "outputs": [],
   "source": [
    "# Regression for Kaiser's 60% threshold : PC1\n",
    "\n",
    "x60 = tradpc4.copy()\n",
    "\n",
    "# Dropping the unnecessary variables\n",
    "x60 = x60.drop(['PC2', 'PC3', 'PC4'], axis =1)"
   ]
  },
  {
   "cell_type": "code",
   "execution_count": 161,
   "id": "a0a498d5",
   "metadata": {},
   "outputs": [
    {
     "name": "stdout",
     "output_type": "stream",
     "text": [
      "                            OLS Regression Results                            \n",
      "==============================================================================\n",
      "Dep. Variable:              log10_box   R-squared:                       0.589\n",
      "Model:                            OLS   Adj. R-squared:                  0.498\n",
      "Method:                 Least Squares   F-statistic:                     6.510\n",
      "Date:                Sun, 11 Feb 2024   Prob (F-statistic):           1.39e-06\n",
      "Time:                        19:21:24   Log-Likelihood:                -4.5682\n",
      "No. Observations:                  62   AIC:                             33.14\n",
      "Df Residuals:                      50   BIC:                             58.66\n",
      "Df Model:                          11                                         \n",
      "Covariance Type:            nonrobust                                         \n",
      "================================================================================\n",
      "                   coef    std err          t      P>|t|      [0.025      0.975]\n",
      "--------------------------------------------------------------------------------\n",
      "G                0.1669      0.240      0.695      0.490      -0.316       0.649\n",
      "PG               0.2317      0.130      1.780      0.081      -0.030       0.493\n",
      "PG13             0.0934      0.095      0.983      0.331      -0.098       0.284\n",
      "log10_budget     0.2609      0.185      1.408      0.165      -0.111       0.633\n",
      "starpowr         0.0019      0.006      0.337      0.738      -0.009       0.013\n",
      "sequel           0.1195      0.119      1.007      0.319      -0.119       0.358\n",
      "action          -0.3775      0.127     -2.964      0.005      -0.633      -0.122\n",
      "comedy          -0.0070      0.111     -0.063      0.950      -0.230       0.216\n",
      "animated        -0.3619      0.187     -1.937      0.058      -0.737       0.013\n",
      "horror           0.1627      0.161      1.009      0.318      -0.161       0.486\n",
      "PC1              0.1863      0.034      5.473      0.000       0.118       0.255\n",
      "const            6.6882      0.279     23.960      0.000       6.128       7.249\n",
      "==============================================================================\n",
      "Omnibus:                        1.622   Durbin-Watson:                   2.131\n",
      "Prob(Omnibus):                  0.444   Jarque-Bera (JB):                0.994\n",
      "Skew:                          -0.282   Prob(JB):                        0.608\n",
      "Kurtosis:                       3.260   Cond. No.                         187.\n",
      "==============================================================================\n",
      "\n",
      "Notes:\n",
      "[1] Standard Errors assume that the covariance matrix of the errors is correctly specified.\n"
     ]
    }
   ],
   "source": [
    "# Creating the regression model\n",
    "linreg7 = sm.OLS(y, x60).fit()\n",
    "print(linreg7.summary())"
   ]
  },
  {
   "cell_type": "code",
   "execution_count": 162,
   "id": "7483b2b2",
   "metadata": {},
   "outputs": [],
   "source": [
    "# Regression for Kaiser's 70% threshold: PC1, PC2\n",
    "\n",
    "x70 = tradpc4.copy()\n",
    "\n",
    "# Dropping the unnecessary variables\n",
    "x70 = x70.drop(['PC3', 'PC4'], axis =1)"
   ]
  },
  {
   "cell_type": "code",
   "execution_count": 163,
   "id": "8e9ba3cf",
   "metadata": {},
   "outputs": [
    {
     "name": "stdout",
     "output_type": "stream",
     "text": [
      "                            OLS Regression Results                            \n",
      "==============================================================================\n",
      "Dep. Variable:              log10_box   R-squared:                       0.609\n",
      "Model:                            OLS   Adj. R-squared:                  0.513\n",
      "Method:                 Least Squares   F-statistic:                     6.357\n",
      "Date:                Sun, 11 Feb 2024   Prob (F-statistic):           1.27e-06\n",
      "Time:                        19:21:24   Log-Likelihood:                -3.0189\n",
      "No. Observations:                  62   AIC:                             32.04\n",
      "Df Residuals:                      49   BIC:                             59.69\n",
      "Df Model:                          12                                         \n",
      "Covariance Type:            nonrobust                                         \n",
      "================================================================================\n",
      "                   coef    std err          t      P>|t|      [0.025      0.975]\n",
      "--------------------------------------------------------------------------------\n",
      "G                0.2142      0.239      0.898      0.374      -0.265       0.694\n",
      "PG               0.2522      0.129      1.956      0.056      -0.007       0.511\n",
      "PG13             0.1091      0.094      1.158      0.252      -0.080       0.298\n",
      "log10_budget     0.2830      0.183      1.546      0.129      -0.085       0.651\n",
      "starpowr         0.0027      0.006      0.495      0.623      -0.008       0.014\n",
      "sequel           0.1539      0.119      1.295      0.202      -0.085       0.393\n",
      "action          -0.3969      0.126     -3.147      0.003      -0.650      -0.143\n",
      "comedy          -0.0097      0.110     -0.089      0.929      -0.230       0.210\n",
      "animated        -0.3606      0.184     -1.959      0.056      -0.731       0.009\n",
      "horror           0.1413      0.159      0.887      0.379      -0.179       0.462\n",
      "PC1              0.1832      0.034      5.454      0.000       0.116       0.251\n",
      "PC2              0.0711      0.045      1.585      0.119      -0.019       0.161\n",
      "const            6.6258      0.278     23.849      0.000       6.068       7.184\n",
      "==============================================================================\n",
      "Omnibus:                        1.798   Durbin-Watson:                   2.070\n",
      "Prob(Omnibus):                  0.407   Jarque-Bera (JB):                1.232\n",
      "Skew:                          -0.334   Prob(JB):                        0.540\n",
      "Kurtosis:                       3.173   Cond. No.                         188.\n",
      "==============================================================================\n",
      "\n",
      "Notes:\n",
      "[1] Standard Errors assume that the covariance matrix of the errors is correctly specified.\n"
     ]
    }
   ],
   "source": [
    "# Creating the regression model\n",
    "linreg8 = sm.OLS(y, x70).fit()\n",
    "print(linreg8.summary())"
   ]
  },
  {
   "cell_type": "code",
   "execution_count": 164,
   "id": "08933c32",
   "metadata": {},
   "outputs": [],
   "source": [
    "# Regression for Kaiser's 80% & 90% threshold: PC1, PC2, PC3\n",
    "\n",
    "x8090 = tradpc4.copy()\n",
    "\n",
    "# Dropping the unnecessary variables\n",
    "x8090 = x8090.drop(['PC4'], axis =1)"
   ]
  },
  {
   "cell_type": "code",
   "execution_count": 165,
   "id": "1d5e1495",
   "metadata": {
    "scrolled": false
   },
   "outputs": [
    {
     "name": "stdout",
     "output_type": "stream",
     "text": [
      "                            OLS Regression Results                            \n",
      "==============================================================================\n",
      "Dep. Variable:              log10_box   R-squared:                       0.609\n",
      "Model:                            OLS   Adj. R-squared:                  0.503\n",
      "Method:                 Least Squares   F-statistic:                     5.752\n",
      "Date:                Sun, 11 Feb 2024   Prob (F-statistic):           3.32e-06\n",
      "Time:                        19:21:24   Log-Likelihood:                -3.0054\n",
      "No. Observations:                  62   AIC:                             34.01\n",
      "Df Residuals:                      48   BIC:                             63.79\n",
      "Df Model:                          13                                         \n",
      "Covariance Type:            nonrobust                                         \n",
      "================================================================================\n",
      "                   coef    std err          t      P>|t|      [0.025      0.975]\n",
      "--------------------------------------------------------------------------------\n",
      "G                0.2013      0.257      0.783      0.437      -0.315       0.718\n",
      "PG               0.2455      0.138      1.778      0.082      -0.032       0.523\n",
      "PG13             0.1071      0.096      1.115      0.270      -0.086       0.300\n",
      "log10_budget     0.2831      0.185      1.531      0.132      -0.089       0.655\n",
      "starpowr         0.0026      0.006      0.448      0.656      -0.009       0.014\n",
      "sequel           0.1464      0.131      1.121      0.268      -0.116       0.409\n",
      "action          -0.4001      0.129     -3.094      0.003      -0.660      -0.140\n",
      "comedy          -0.0093      0.111     -0.084      0.933      -0.232       0.213\n",
      "animated        -0.3550      0.190     -1.868      0.068      -0.737       0.027\n",
      "horror           0.1441      0.162      0.889      0.379      -0.182       0.470\n",
      "PC1              0.1843      0.035      5.313      0.000       0.115       0.254\n",
      "PC2              0.0698      0.046      1.512      0.137      -0.023       0.163\n",
      "PC3              0.0101      0.069      0.145      0.885      -0.130       0.150\n",
      "const            6.6326      0.284     23.314      0.000       6.061       7.205\n",
      "==============================================================================\n",
      "Omnibus:                        1.768   Durbin-Watson:                   2.068\n",
      "Prob(Omnibus):                  0.413   Jarque-Bera (JB):                1.219\n",
      "Skew:                          -0.334   Prob(JB):                        0.544\n",
      "Kurtosis:                       3.158   Cond. No.                         189.\n",
      "==============================================================================\n",
      "\n",
      "Notes:\n",
      "[1] Standard Errors assume that the covariance matrix of the errors is correctly specified.\n"
     ]
    }
   ],
   "source": [
    "# Creating the regression model\n",
    "linreg9 = sm.OLS(y, x8090).fit()\n",
    "print(linreg9.summary())"
   ]
  },
  {
   "cell_type": "markdown",
   "id": "a29788e7",
   "metadata": {},
   "source": [
    "# Question 11"
   ]
  },
  {
   "cell_type": "code",
   "execution_count": 166,
   "id": "f4e7e906",
   "metadata": {},
   "outputs": [],
   "source": [
    "# Preparing for regression\n",
    "\n",
    "buzz = bf.copy()\n",
    "\n",
    "# Dropping the unnecessary variables\n",
    "buzz = buzz.drop(['box','G','PG','PG13','budget','starpowr','sequel','action','comedy','animated','horror','addict','cmngsoon','fandango','log10_box','log10_budget'], axis=1)"
   ]
  },
  {
   "cell_type": "code",
   "execution_count": 167,
   "id": "b77a50bc",
   "metadata": {},
   "outputs": [
    {
     "name": "stdout",
     "output_type": "stream",
     "text": [
      "<class 'pandas.core.frame.DataFrame'>\n",
      "RangeIndex: 62 entries, 0 to 61\n",
      "Data columns (total 20 columns):\n",
      " #   Column          Non-Null Count  Dtype  \n",
      "---  ------          --------------  -----  \n",
      " 0   box             62 non-null     int64  \n",
      " 1   G               62 non-null     int64  \n",
      " 2   PG              62 non-null     int64  \n",
      " 3   PG13            62 non-null     int64  \n",
      " 4   budget          62 non-null     float64\n",
      " 5   starpowr        62 non-null     float64\n",
      " 6   sequel          62 non-null     int64  \n",
      " 7   action          62 non-null     int64  \n",
      " 8   comedy          62 non-null     int64  \n",
      " 9   animated        62 non-null     int64  \n",
      " 10  horror          62 non-null     int64  \n",
      " 11  addict          62 non-null     float64\n",
      " 12  cmngsoon        62 non-null     int64  \n",
      " 13  fandango        62 non-null     int64  \n",
      " 14  cntwait3        62 non-null     float64\n",
      " 15  log10_box       62 non-null     float64\n",
      " 16  log10_budget    62 non-null     float64\n",
      " 17  log10_addict    62 non-null     float64\n",
      " 18  log10_cmngsoon  62 non-null     float64\n",
      " 19  log10_fandango  62 non-null     float64\n",
      "dtypes: float64(9), int64(11)\n",
      "memory usage: 9.8 KB\n"
     ]
    }
   ],
   "source": [
    "bf.info()"
   ]
  },
  {
   "cell_type": "code",
   "execution_count": 168,
   "id": "ca7c7005",
   "metadata": {},
   "outputs": [],
   "source": [
    "# Variables we want are cntwait3, log10_addict, log10_cmngsoon, log10_fandango, log10_budget, starpowr"
   ]
  },
  {
   "cell_type": "code",
   "execution_count": 169,
   "id": "d78a1156",
   "metadata": {},
   "outputs": [],
   "source": [
    "# Preparing for regression\n",
    "\n",
    "x11 = bf.copy()\n",
    "\n",
    "# Dropping the unnecessary variables\n",
    "x11 = x11.drop(['box','G','PG','PG13','budget','sequel','action','comedy','animated','horror','addict','cmngsoon','fandango','log10_box'], axis=1)"
   ]
  },
  {
   "cell_type": "code",
   "execution_count": 170,
   "id": "b7f427d0",
   "metadata": {},
   "outputs": [
    {
     "name": "stdout",
     "output_type": "stream",
     "text": [
      "<class 'pandas.core.frame.DataFrame'>\n",
      "RangeIndex: 62 entries, 0 to 61\n",
      "Data columns (total 6 columns):\n",
      " #   Column          Non-Null Count  Dtype  \n",
      "---  ------          --------------  -----  \n",
      " 0   starpowr        62 non-null     float64\n",
      " 1   cntwait3        62 non-null     float64\n",
      " 2   log10_budget    62 non-null     float64\n",
      " 3   log10_addict    62 non-null     float64\n",
      " 4   log10_cmngsoon  62 non-null     float64\n",
      " 5   log10_fandango  62 non-null     float64\n",
      "dtypes: float64(6)\n",
      "memory usage: 3.0 KB\n"
     ]
    }
   ],
   "source": [
    "x11.info()"
   ]
  },
  {
   "cell_type": "code",
   "execution_count": 171,
   "id": "95bf14ad",
   "metadata": {},
   "outputs": [],
   "source": [
    "sc11 = prep.StandardScaler()\n",
    "\n",
    "sx11 = pd.DataFrame(sc.fit_transform(x11), columns = x11.columns)\n",
    "\n",
    "# calculate the sample standard deviation of the result and scale by dividing with it \n",
    "sc11.scale_ = np.std(sx11, axis=0, ddof=1).to_list()\n",
    "\n",
    "sx11 = sx11/sc11.scale_"
   ]
  },
  {
   "cell_type": "code",
   "execution_count": 172,
   "id": "64a790a7",
   "metadata": {},
   "outputs": [],
   "source": [
    "# create pca object\n",
    "pca6 = PCA()\n",
    "\n",
    "#pass the feature set \n",
    "pcs6 = pca6.fit_transform(sx11)"
   ]
  },
  {
   "cell_type": "code",
   "execution_count": 173,
   "id": "a476f09f",
   "metadata": {},
   "outputs": [
    {
     "name": "stdout",
     "output_type": "stream",
     "text": [
      "\n",
      "Eigen Values of Correlation Matrix\n",
      "[2.83823382 1.45442671 0.70232212 0.44299297 0.34049709 0.2215273 ]\n"
     ]
    }
   ],
   "source": [
    "print('\\nEigen Values of Correlation Matrix')\n",
    "print(pca6.explained_variance_)"
   ]
  },
  {
   "cell_type": "code",
   "execution_count": 174,
   "id": "5e3a7ad9",
   "metadata": {},
   "outputs": [
    {
     "data": {
      "text/plain": [
       "array([0.47303897, 0.24240445, 0.11705369, 0.07383216, 0.05674951,\n",
       "       0.03692122])"
      ]
     },
     "execution_count": 174,
     "metadata": {},
     "output_type": "execute_result"
    }
   ],
   "source": [
    "# Explained variance to get the proportion of variance explained by each PC\n",
    "expldvarpca6 = pca6.explained_variance_ratio_\n",
    "expldvarpca6"
   ]
  },
  {
   "cell_type": "code",
   "execution_count": 175,
   "id": "285e3abb",
   "metadata": {},
   "outputs": [
    {
     "name": "stdout",
     "output_type": "stream",
     "text": [
      "\n",
      "Cumulative sum of the explained variance\n",
      "[0.47303897 0.71544342 0.83249711 0.90632927 0.96307878 1.        ]\n"
     ]
    }
   ],
   "source": [
    "expldvarsum6 = np.cumsum(expldvarpca6)\n",
    "print('\\nCumulative sum of the explained variance')\n",
    "print(expldvarsum6)"
   ]
  },
  {
   "cell_type": "code",
   "execution_count": 176,
   "id": "fc286c7f",
   "metadata": {},
   "outputs": [
    {
     "data": {
      "image/png": "[encoded data removed]",
      "text/plain": [
       "<Figure size 500x500 with 1 Axes>"
      ]
     },
     "metadata": {},
     "output_type": "display_data"
    }
   ],
   "source": [
    "# scree plot (Eigen Values against sorted PCs)\n",
    "\n",
    "plt.figure(figsize=(5, 5))\n",
    "\n",
    "plt.xlabel(\"Principal Component\")\n",
    "plt.ylabel(\"Eigen Values\")\n",
    "\n",
    "plt.xticks(np.arange(1, 7)) \n",
    "\n",
    "plt.plot(np.arange(1,7), pca6.explained_variance_)\n",
    "\n",
    "plt.scatter(np.arange(1,7), pca6.explained_variance_, s = 100)\n",
    "\n",
    "plt.savefig(r'figures\\Asg1-Q11-Scree-PCA.png', transparent = \"true\")"
   ]
  },
  {
   "cell_type": "code",
   "execution_count": 177,
   "id": "3e9e9490",
   "metadata": {},
   "outputs": [
    {
     "name": "stdout",
     "output_type": "stream",
     "text": [
      "\n",
      "Principal Components\n",
      "[[-0.24354716 -0.51720116 -0.434969   -0.40048435 -0.42290479 -0.3804649 ]\n",
      " [-0.66977854  0.05652287 -0.40782831  0.40376224  0.45426654 -0.11178511]\n",
      " [ 0.24917939  0.32680094  0.07030385  0.19651156 -0.0031937  -0.88743515]\n",
      " [ 0.1751475  -0.27819718 -0.11952631  0.79075495 -0.48920846  0.11412638]\n",
      " [-0.53090539 -0.22614273  0.78223141  0.07914513 -0.16018966 -0.15227696]\n",
      " [ 0.34271552 -0.7028336   0.11559798  0.08008871  0.5914369  -0.13782705]]\n",
      "\n",
      "Explained Variance Proportion by Component\n",
      "[0.47303897 0.24240445 0.11705369 0.07383216 0.05674951 0.03692122]\n",
      "\n",
      "Eigen Values of Correlation Matrix\n",
      "[2.83823382 1.45442671 0.70232212 0.44299297 0.34049709 0.2215273 ]\n"
     ]
    }
   ],
   "source": [
    "print('\\nPrincipal Components')\n",
    "print(pca6.components_)\n",
    "print('\\nExplained Variance Proportion by Component')\n",
    "print(expldvarpca6)\n",
    "print('\\nEigen Values of Correlation Matrix')\n",
    "print(pca6.explained_variance_)"
   ]
  },
  {
   "cell_type": "markdown",
   "id": "7bcab559",
   "metadata": {},
   "source": [
    "# Question 12"
   ]
  },
  {
   "cell_type": "code",
   "execution_count": 178,
   "id": "f70d0f90",
   "metadata": {},
   "outputs": [
    {
     "name": "stdout",
     "output_type": "stream",
     "text": [
      "         PC1       PC2       PC3       PC4       PC5       PC6\n",
      "0   0.727800  0.038162  1.204158  1.123466 -0.117357 -0.448392\n",
      "1  -2.637946 -1.370233  1.077239 -0.251879  0.013417 -0.366720\n",
      "2   1.542932 -0.469245  0.076520 -0.857879  0.278870  0.224304\n",
      "3  -3.605130 -0.458782 -0.388755  0.345631  0.690654 -0.445240\n",
      "4  -1.453419 -0.892621 -0.777003  0.150703  1.127304 -0.218117\n",
      "..       ...       ...       ...       ...       ...       ...\n",
      "57 -2.870020 -1.454298  0.723402  0.275331  0.139703  0.201002\n",
      "58  1.015619  2.049672  2.170410 -1.181606  0.225858 -0.428071\n",
      "59  0.412522  2.404608  1.172586  0.762127 -0.042936 -0.285026\n",
      "60 -2.919339  1.181531 -0.091520 -0.711417  0.114676  0.378143\n",
      "61  0.933144  1.094761  0.242295  1.012984 -1.199726 -0.388103\n",
      "\n",
      "[62 rows x 6 columns]\n"
     ]
    }
   ],
   "source": [
    "# Creating a dataframe with 6 PC \n",
    "pcs6df = pd.DataFrame(pcs6, columns = ['PC1', 'PC2', 'PC3', 'PC4', 'PC5','PC6'])\n",
    "print(pcs6df)"
   ]
  },
  {
   "cell_type": "code",
   "execution_count": 179,
   "id": "183440fe",
   "metadata": {},
   "outputs": [],
   "source": [
    "#add new constant column for the intercept\n",
    "pcs6df['const'] = 1.0"
   ]
  },
  {
   "cell_type": "code",
   "execution_count": 180,
   "id": "6772f5b7",
   "metadata": {},
   "outputs": [
    {
     "name": "stdout",
     "output_type": "stream",
     "text": [
      "<class 'pandas.core.frame.DataFrame'>\n",
      "RangeIndex: 62 entries, 0 to 61\n",
      "Data columns (total 7 columns):\n",
      " #   Column  Non-Null Count  Dtype  \n",
      "---  ------  --------------  -----  \n",
      " 0   PC1     62 non-null     float64\n",
      " 1   PC2     62 non-null     float64\n",
      " 2   PC3     62 non-null     float64\n",
      " 3   PC4     62 non-null     float64\n",
      " 4   PC5     62 non-null     float64\n",
      " 5   PC6     62 non-null     float64\n",
      " 6   const   62 non-null     float64\n",
      "dtypes: float64(7)\n",
      "memory usage: 3.5 KB\n"
     ]
    }
   ],
   "source": [
    "pcs6df.info()"
   ]
  },
  {
   "cell_type": "code",
   "execution_count": 181,
   "id": "84428cda",
   "metadata": {},
   "outputs": [
    {
     "name": "stdout",
     "output_type": "stream",
     "text": [
      "                            OLS Regression Results                            \n",
      "==============================================================================\n",
      "Dep. Variable:              log10_box   R-squared:                       0.431\n",
      "Model:                            OLS   Adj. R-squared:                  0.411\n",
      "Method:                 Least Squares   F-statistic:                     22.31\n",
      "Date:                Sun, 11 Feb 2024   Prob (F-statistic):           6.10e-08\n",
      "Time:                        19:21:25   Log-Likelihood:                -14.662\n",
      "No. Observations:                  62   AIC:                             35.32\n",
      "Df Residuals:                      59   BIC:                             41.71\n",
      "Df Model:                           2                                         \n",
      "Covariance Type:            nonrobust                                         \n",
      "==============================================================================\n",
      "                 coef    std err          t      P>|t|      [0.025      0.975]\n",
      "------------------------------------------------------------------------------\n",
      "PC1           -0.1577      0.024     -6.605      0.000      -0.206      -0.110\n",
      "PC2            0.0331      0.033      0.992      0.325      -0.034       0.100\n",
      "const          7.1571      0.040    179.349      0.000       7.077       7.237\n",
      "==============================================================================\n",
      "Omnibus:                        9.150   Durbin-Watson:                   1.673\n",
      "Prob(Omnibus):                  0.010   Jarque-Bera (JB):                8.658\n",
      "Skew:                          -0.801   Prob(JB):                       0.0132\n",
      "Kurtosis:                       3.886   Cond. No.                         1.67\n",
      "==============================================================================\n",
      "\n",
      "Notes:\n",
      "[1] Standard Errors assume that the covariance matrix of the errors is correctly specified.\n"
     ]
    }
   ],
   "source": [
    "# Regression for 60 & 70% threshold: PC1, PC2\n",
    "\n",
    "x12a = pcs6df.copy()\n",
    "\n",
    "# Dropping the unnecessary variables\n",
    "x12a = x12a.drop(['PC3','PC4','PC5','PC6'], axis=1)\n",
    "\n",
    "# Creating the regression model\n",
    "linreg12a = sm.OLS(y, x12a).fit()\n",
    "\n",
    "print(linreg12a.summary())"
   ]
  },
  {
   "cell_type": "code",
   "execution_count": 182,
   "id": "06e0fe6b",
   "metadata": {},
   "outputs": [
    {
     "name": "stdout",
     "output_type": "stream",
     "text": [
      "                            OLS Regression Results                            \n",
      "==============================================================================\n",
      "Dep. Variable:              log10_box   R-squared:                       0.448\n",
      "Model:                            OLS   Adj. R-squared:                  0.420\n",
      "Method:                 Least Squares   F-statistic:                     15.72\n",
      "Date:                Sun, 11 Feb 2024   Prob (F-statistic):           1.35e-07\n",
      "Time:                        19:21:25   Log-Likelihood:                -13.675\n",
      "No. Observations:                  62   AIC:                             35.35\n",
      "Df Residuals:                      58   BIC:                             43.86\n",
      "Df Model:                           3                                         \n",
      "Covariance Type:            nonrobust                                         \n",
      "==============================================================================\n",
      "                 coef    std err          t      P>|t|      [0.025      0.975]\n",
      "------------------------------------------------------------------------------\n",
      "PC1           -0.1577      0.024     -6.654      0.000      -0.205      -0.110\n",
      "PC2            0.0331      0.033      0.999      0.322      -0.033       0.099\n",
      "PC3            0.0653      0.048      1.370      0.176      -0.030       0.161\n",
      "const          7.1571      0.040    180.676      0.000       7.078       7.236\n",
      "==============================================================================\n",
      "Omnibus:                        8.926   Durbin-Watson:                   1.619\n",
      "Prob(Omnibus):                  0.012   Jarque-Bera (JB):                8.351\n",
      "Skew:                          -0.811   Prob(JB):                       0.0154\n",
      "Kurtosis:                       3.777   Cond. No.                         2.01\n",
      "==============================================================================\n",
      "\n",
      "Notes:\n",
      "[1] Standard Errors assume that the covariance matrix of the errors is correctly specified.\n"
     ]
    }
   ],
   "source": [
    "# Regression for 80% threshold: PC1, PC2, PC3\n",
    "\n",
    "x12b = pcs6df.copy()\n",
    "\n",
    "# Dropping the unnecessary variables\n",
    "x12b = x12b.drop(['PC4','PC5','PC6'], axis=1)\n",
    "\n",
    "# Creating the regression model\n",
    "linreg12b = sm.OLS(y, x12b).fit()\n",
    "\n",
    "print(linreg12b.summary())"
   ]
  },
  {
   "cell_type": "code",
   "execution_count": 183,
   "id": "3dc16139",
   "metadata": {
    "scrolled": false
   },
   "outputs": [
    {
     "name": "stdout",
     "output_type": "stream",
     "text": [
      "                            OLS Regression Results                            \n",
      "==============================================================================\n",
      "Dep. Variable:              log10_box   R-squared:                       0.451\n",
      "Model:                            OLS   Adj. R-squared:                  0.412\n",
      "Method:                 Least Squares   F-statistic:                     11.69\n",
      "Date:                Sun, 11 Feb 2024   Prob (F-statistic):           5.34e-07\n",
      "Time:                        19:21:25   Log-Likelihood:                -13.552\n",
      "No. Observations:                  62   AIC:                             37.10\n",
      "Df Residuals:                      57   BIC:                             47.74\n",
      "Df Model:                           4                                         \n",
      "Covariance Type:            nonrobust                                         \n",
      "==============================================================================\n",
      "                 coef    std err          t      P>|t|      [0.025      0.975]\n",
      "------------------------------------------------------------------------------\n",
      "PC1           -0.1577      0.024     -6.610      0.000      -0.206      -0.110\n",
      "PC2            0.0331      0.033      0.993      0.325      -0.034       0.100\n",
      "PC3            0.0653      0.048      1.360      0.179      -0.031       0.161\n",
      "PC4            0.0287      0.060      0.476      0.636      -0.092       0.150\n",
      "const          7.1571      0.040    179.467      0.000       7.077       7.237\n",
      "==============================================================================\n",
      "Omnibus:                        7.903   Durbin-Watson:                   1.632\n",
      "Prob(Omnibus):                  0.019   Jarque-Bera (JB):                7.152\n",
      "Skew:                          -0.741   Prob(JB):                       0.0280\n",
      "Kurtosis:                       3.755   Cond. No.                         2.53\n",
      "==============================================================================\n",
      "\n",
      "Notes:\n",
      "[1] Standard Errors assume that the covariance matrix of the errors is correctly specified.\n"
     ]
    }
   ],
   "source": [
    "# Regression for 90% threshold: PC1, PC2, PC3, PC4\n",
    "\n",
    "x12c = pcs6df.copy()\n",
    "\n",
    "# Dropping the unnecessary variables\n",
    "x12c = x12c.drop(['PC5','PC6'], axis=1)\n",
    "\n",
    "# Creating the regression model\n",
    "linreg12c = sm.OLS(y, x12c).fit()\n",
    "\n",
    "print(linreg12c.summary())"
   ]
  }
 ],
 "metadata": {
  "kernelspec": {
   "display_name": "Python 3 (ipykernel)",
   "language": "python",
   "name": "python3"
  },
  "language_info": {
   "codemirror_mode": {
    "name": "ipython",
    "version": 3
   },
   "file_extension": ".py",
   "mimetype": "text/x-python",
   "name": "python",
   "nbconvert_exporter": "python",
   "pygments_lexer": "ipython3",
   "version": "3.10.13"
  }
 },
 "nbformat": 4,
 "nbformat_minor": 5
}
